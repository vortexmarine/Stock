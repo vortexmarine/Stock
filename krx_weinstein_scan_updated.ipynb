{
 "cells": [
  {
   "cell_type": "code",
   "id": "7ba906db",
   "metadata": {
    "ExecuteTime": {
     "end_time": "2025-05-13T05:31:45.942496Z",
     "start_time": "2025-05-13T05:31:43.046892Z"
    }
   },
   "source": [
    "import os\n",
    "import io\n",
    "import pandas as pd\n",
    "import numpy as np\n",
    "from datetime import datetime, timedelta\n",
    "from pykrx import stock\n",
    "from pandas_datareader import data as pdr\n",
    "from multiprocessing import Pool, cpu_count\n",
    "from tqdm import tqdm\n",
    "import warnings\n",
    "import matplotlib.pyplot as plt\n",
    "\n",
    "warnings.filterwarnings(\"ignore\")"
   ],
   "outputs": [
    {
     "ename": "ModuleNotFoundError",
     "evalue": "No module named 'pandas_datareader'",
     "output_type": "error",
     "traceback": [
      "\u001B[1;31m---------------------------------------------------------------------------\u001B[0m",
      "\u001B[1;31mModuleNotFoundError\u001B[0m                       Traceback (most recent call last)",
      "Cell \u001B[1;32mIn[1], line 7\u001B[0m\n\u001B[0;32m      5\u001B[0m \u001B[38;5;28;01mfrom\u001B[39;00m \u001B[38;5;21;01mdatetime\u001B[39;00m \u001B[38;5;28;01mimport\u001B[39;00m datetime, timedelta\n\u001B[0;32m      6\u001B[0m \u001B[38;5;28;01mfrom\u001B[39;00m \u001B[38;5;21;01mpykrx\u001B[39;00m \u001B[38;5;28;01mimport\u001B[39;00m stock\n\u001B[1;32m----> 7\u001B[0m \u001B[38;5;28;01mfrom\u001B[39;00m \u001B[38;5;21;01mpandas_datareader\u001B[39;00m \u001B[38;5;28;01mimport\u001B[39;00m data \u001B[38;5;28;01mas\u001B[39;00m pdr\n\u001B[0;32m      8\u001B[0m \u001B[38;5;28;01mfrom\u001B[39;00m \u001B[38;5;21;01mmultiprocessing\u001B[39;00m \u001B[38;5;28;01mimport\u001B[39;00m Pool, cpu_count\n\u001B[0;32m      9\u001B[0m \u001B[38;5;28;01mfrom\u001B[39;00m \u001B[38;5;21;01mtqdm\u001B[39;00m \u001B[38;5;28;01mimport\u001B[39;00m tqdm\n",
      "\u001B[1;31mModuleNotFoundError\u001B[0m: No module named 'pandas_datareader'"
     ]
    }
   ],
   "execution_count": 1
  },
  {
   "cell_type": "code",
   "id": "6fff6bc9",
   "metadata": {
    "ExecuteTime": {
     "end_time": "2025-05-13T05:31:45.942496Z",
     "start_time": "2025-05-13T05:31:45.942496Z"
    }
   },
   "source": [
    "# --- 초기 변수 설정 ---\n",
    "today = datetime.today()\n",
    "crawl_time = datetime.now()\n",
    "start_week = (today - timedelta(weeks=200)).strftime(\"%Y%m%d\")\n",
    "start_day  = (today - timedelta(days=200)).strftime(\"%Y%m%d\")\n",
    "end        = today.strftime(\"%Y%m%d\")\n",
    "\n",
    "maPeriod      = 30\n",
    "flatThresh    = 0.0005\n",
    "gapThresh     = 0.03\n",
    "valueThr      = 500_000_000   # 주간 거래대금 최소 기준\n",
    "spikeMult     = 1.2           # 변동성 배수 기준\n",
    "minDailyVol   = 300_000       # 일간 거래량 최소 기준"
   ],
   "outputs": [],
   "execution_count": null
  },
  {
   "cell_type": "code",
   "id": "68eda042",
   "metadata": {
    "ExecuteTime": {
     "end_time": "2025-05-13T05:31:51.943435Z",
     "start_time": "2025-05-13T05:31:51.938707Z"
    }
   },
   "source": [
    "# 전략 상태 계산 함수\n",
    "def calc_stage(ma, price, slope):\n",
    "    flat = abs(slope / ma) < flatThresh\n",
    "    gap  = abs(price - ma) / ma < gapThresh\n",
    "    if flat:\n",
    "        return 1 if gap else 3\n",
    "    return (2 if price > ma else 1) if slope > 0 else (4 if price < ma else 3)"
   ],
   "outputs": [],
   "execution_count": 2
  },
  {
   "cell_type": "code",
   "id": "ecf93437",
   "metadata": {
    "ExecuteTime": {
     "end_time": "2025-05-13T05:31:52.974520Z",
     "start_time": "2025-05-13T05:31:52.969693Z"
    }
   },
   "source": [
    "# 개별 종목 스캔 함수\n",
    "def scan_ticker(args):\n",
    "    ticker, name_map, sector_map, cap_map = args\n",
    "    try:\n",
    "        # 일간 OHLCV 조회 (pykrx)\n",
    "        df = stock.get_market_ohlcv_by_date(start_week, end, ticker, freq='d')\n",
    "        if df.empty or len(df) < 80:\n",
    "            return None\n",
    "        # 거래대금 컬럼\n",
    "        if '거래대금' not in df.columns:\n",
    "            df['거래대금'] = df['종가'] * df['거래량']\n",
    "        df.index = pd.to_datetime(df.index)\n",
    "\n",
    "        # 주간 리샘플링\n",
    "        wk = df.resample('W-FRI').agg({\n",
    "            '시가':'first','고가':'max','저가':'min','종가':'last',\n",
    "            '거래량':'sum','거래대금':'sum'\n",
    "        }).dropna()\n",
    "        if len(wk) < 16:\n",
    "            return None\n",
    "\n",
    "        # 주간 지표 계산\n",
    "        wk['ma']         = wk['종가'].rolling(maPeriod).mean()\n",
    "        wk['slope']      = wk['ma'].diff()\n",
    "        wk['turnover']   = wk['종가'] * wk['거래량']\n",
    "        wk['ma30']       = wk['종가'].rolling(30).mean()\n",
    "        wk['ma30_slope'] = wk['ma30'].diff()\n",
    "        latest, prev = wk.iloc[-1], wk.iloc[-2]\n",
    "        stage = calc_stage(latest['ma'], latest['종가'], latest['slope'])\n",
    "        stage_prev = calc_stage(prev['ma'], prev['종가'], prev['slope'])\n",
    "\n",
    "        # 완화된 주간 조건\n",
    "        week_ok = latest['turnover'] >= valueThr and latest['종가'] > latest['ma30']\n",
    "\n",
    "        # 일간 데이터\n",
    "        dk = stock.get_market_ohlcv_by_date(start_day, end, ticker, freq='d')\n",
    "        if dk.empty:\n",
    "            return None\n",
    "        dk['vol_ma20'] = dk['거래량'].rolling(20).mean()\n",
    "        latest_d, prev_d = dk.iloc[-1], dk.iloc[-2]\n",
    "\n",
    "        # 완화된 일간 조건\n",
    "        day_ok = latest_d['종가'] > latest_d['시가'] and latest_d['거래량'] >= minDailyVol\n",
    "\n",
    "        if stage == 2 and stage_prev == 1 and week_ok and day_ok:\n",
    "            return {\n",
    "                'Ticker': ticker,\n",
    "                'Name':   name_map.get(ticker),\n",
    "                'Sector': sector_map.get(ticker, \"Unknown\"),\n",
    "                'MarketCap': cap_map.get(ticker, 0),\n",
    "                'Stage': stage,\n",
    "                'Entry_Price': float(latest['종가']),\n",
    "                'Last_Close': float(latest_d['종가']),\n",
    "                'Last_Close_Date': f\"{dk.index[-1].strftime('%Y-%m-%d')} {crawl_time.strftime('%H:%M:%S')}\"\n",
    "            }\n",
    "    except Exception:\n",
    "        return None\n",
    "    return None"
   ],
   "outputs": [],
   "execution_count": 3
  },
  {
   "cell_type": "code",
   "id": "dd8e086a",
   "metadata": {
    "ExecuteTime": {
     "end_time": "2025-05-13T05:32:06.716355Z",
     "start_time": "2025-05-13T05:31:54.711906Z"
    }
   },
   "source": [
    "# 메인 블록: 티커 리스트 로드 및 매핑 (pandas_datareader 대체 및 pykrx 순수-Python 대안)\n",
    "kospi  = stock.get_market_ticker_list(market=\"KOSPI\")\n",
    "kosdaq = stock.get_market_ticker_list(market=\"KOSDAQ\")\n",
    "tickers = kospi + kosdaq\n",
    "\n",
    "# Name mapping\n",
    "name_map = {t: stock.get_market_ticker_name(t) for t in tickers}\n",
    "\n",
    "# Sector mapping (현재 Unknown으로 설정)\n",
    "sector_map = {t: \"Unknown\" for t in tickers}\n",
    "\n",
    "# MarketCap mapping (pykrx를 이용한 시가총액 조회)\n",
    "cap_df = stock.get_market_cap_by_date(end, end)\n",
    "cap_series = cap_df.loc[end]\n",
    "cap_map = cap_series.to_dict()\n",
    "\n",
    "args_list = [(t, name_map, sector_map, cap_map) for t in tickers]"
   ],
   "outputs": [
    {
     "ename": "NameError",
     "evalue": "name 'end' is not defined",
     "output_type": "error",
     "traceback": [
      "\u001B[1;31m---------------------------------------------------------------------------\u001B[0m",
      "\u001B[1;31mNameError\u001B[0m                                 Traceback (most recent call last)",
      "Cell \u001B[1;32mIn[4], line 13\u001B[0m\n\u001B[0;32m     10\u001B[0m sector_map \u001B[38;5;241m=\u001B[39m {t: \u001B[38;5;124m\"\u001B[39m\u001B[38;5;124mUnknown\u001B[39m\u001B[38;5;124m\"\u001B[39m \u001B[38;5;28;01mfor\u001B[39;00m t \u001B[38;5;129;01min\u001B[39;00m tickers}\n\u001B[0;32m     12\u001B[0m \u001B[38;5;66;03m# MarketCap mapping (pykrx를 이용한 시가총액 조회)\u001B[39;00m\n\u001B[1;32m---> 13\u001B[0m cap_df \u001B[38;5;241m=\u001B[39m stock\u001B[38;5;241m.\u001B[39mget_market_cap_by_date(\u001B[43mend\u001B[49m, end)\n\u001B[0;32m     14\u001B[0m cap_series \u001B[38;5;241m=\u001B[39m cap_df\u001B[38;5;241m.\u001B[39mloc[end]\n\u001B[0;32m     15\u001B[0m cap_map \u001B[38;5;241m=\u001B[39m cap_series\u001B[38;5;241m.\u001B[39mto_dict()\n",
      "\u001B[1;31mNameError\u001B[0m: name 'end' is not defined"
     ]
    }
   ],
   "execution_count": 4
  },
  {
   "cell_type": "code",
   "id": "2a7860e0",
   "metadata": {
    "ExecuteTime": {
     "end_time": "2025-05-13T05:32:08.981294Z",
     "start_time": "2025-05-13T05:32:08.970372Z"
    }
   },
   "source": [
    "# 스캔 실행: 병렬 처리\n",
    "with Pool(cpu_count()) as pool:\n",
    "    results = list(tqdm(pool.imap(scan_ticker, args_list), total=len(args_list)))\n",
    "candidates = [r for r in results if r]\n",
    "\n",
    "if not candidates:\n",
    "    print(\"No candidates found.\")\n",
    "else:\n",
    "    print(f\"Found {len(candidates)} candidates.\")"
   ],
   "outputs": [
    {
     "ename": "NameError",
     "evalue": "name 'Pool' is not defined",
     "output_type": "error",
     "traceback": [
      "\u001B[1;31m---------------------------------------------------------------------------\u001B[0m",
      "\u001B[1;31mNameError\u001B[0m                                 Traceback (most recent call last)",
      "Cell \u001B[1;32mIn[5], line 2\u001B[0m\n\u001B[0;32m      1\u001B[0m \u001B[38;5;66;03m# 스캔 실행: 병렬 처리\u001B[39;00m\n\u001B[1;32m----> 2\u001B[0m \u001B[38;5;28;01mwith\u001B[39;00m \u001B[43mPool\u001B[49m(cpu_count()) \u001B[38;5;28;01mas\u001B[39;00m pool:\n\u001B[0;32m      3\u001B[0m     results \u001B[38;5;241m=\u001B[39m \u001B[38;5;28mlist\u001B[39m(tqdm(pool\u001B[38;5;241m.\u001B[39mimap(scan_ticker, args_list), total\u001B[38;5;241m=\u001B[39m\u001B[38;5;28mlen\u001B[39m(args_list)))\n\u001B[0;32m      4\u001B[0m candidates \u001B[38;5;241m=\u001B[39m [r \u001B[38;5;28;01mfor\u001B[39;00m r \u001B[38;5;129;01min\u001B[39;00m results \u001B[38;5;28;01mif\u001B[39;00m r]\n",
      "\u001B[1;31mNameError\u001B[0m: name 'Pool' is not defined"
     ]
    }
   ],
   "execution_count": 5
  },
  {
   "cell_type": "code",
   "id": "0606eb57",
   "metadata": {
    "ExecuteTime": {
     "end_time": "2025-05-13T05:32:14.451483Z",
     "start_time": "2025-05-13T05:32:14.440520Z"
    }
   },
   "source": [
    "# 결과 처리 및 표시\n",
    "df = pd.DataFrame(candidates)\n",
    "df['MarketCap(억원)'] = df['MarketCap'] / 1e8\n",
    "df = df[['Ticker', 'Name', 'Sector', 'MarketCap(억원)', 'Stage', 'Entry_Price', 'Last_Close', 'Last_Close_Date']]\n",
    "df = df.sort_values(['Stage', 'MarketCap(억원)'], ascending=[True, False])\n",
    "df.head()"
   ],
   "outputs": [
    {
     "ename": "NameError",
     "evalue": "name 'candidates' is not defined",
     "output_type": "error",
     "traceback": [
      "\u001B[1;31m---------------------------------------------------------------------------\u001B[0m",
      "\u001B[1;31mNameError\u001B[0m                                 Traceback (most recent call last)",
      "Cell \u001B[1;32mIn[6], line 2\u001B[0m\n\u001B[0;32m      1\u001B[0m \u001B[38;5;66;03m# 결과 처리 및 표시\u001B[39;00m\n\u001B[1;32m----> 2\u001B[0m df \u001B[38;5;241m=\u001B[39m pd\u001B[38;5;241m.\u001B[39mDataFrame(\u001B[43mcandidates\u001B[49m)\n\u001B[0;32m      3\u001B[0m df[\u001B[38;5;124m'\u001B[39m\u001B[38;5;124mMarketCap(억원)\u001B[39m\u001B[38;5;124m'\u001B[39m] \u001B[38;5;241m=\u001B[39m df[\u001B[38;5;124m'\u001B[39m\u001B[38;5;124mMarketCap\u001B[39m\u001B[38;5;124m'\u001B[39m] \u001B[38;5;241m/\u001B[39m \u001B[38;5;241m1e8\u001B[39m\n\u001B[0;32m      4\u001B[0m df \u001B[38;5;241m=\u001B[39m df[[\u001B[38;5;124m'\u001B[39m\u001B[38;5;124mTicker\u001B[39m\u001B[38;5;124m'\u001B[39m, \u001B[38;5;124m'\u001B[39m\u001B[38;5;124mName\u001B[39m\u001B[38;5;124m'\u001B[39m, \u001B[38;5;124m'\u001B[39m\u001B[38;5;124mSector\u001B[39m\u001B[38;5;124m'\u001B[39m, \u001B[38;5;124m'\u001B[39m\u001B[38;5;124mMarketCap(억원)\u001B[39m\u001B[38;5;124m'\u001B[39m, \u001B[38;5;124m'\u001B[39m\u001B[38;5;124mStage\u001B[39m\u001B[38;5;124m'\u001B[39m, \u001B[38;5;124m'\u001B[39m\u001B[38;5;124mEntry_Price\u001B[39m\u001B[38;5;124m'\u001B[39m, \u001B[38;5;124m'\u001B[39m\u001B[38;5;124mLast_Close\u001B[39m\u001B[38;5;124m'\u001B[39m, \u001B[38;5;124m'\u001B[39m\u001B[38;5;124mLast_Close_Date\u001B[39m\u001B[38;5;124m'\u001B[39m]]\n",
      "\u001B[1;31mNameError\u001B[0m: name 'candidates' is not defined"
     ]
    }
   ],
   "execution_count": 6
  },
  {
   "cell_type": "code",
   "id": "53cd0f96",
   "metadata": {
    "ExecuteTime": {
     "end_time": "2025-05-13T05:32:20.653173Z",
     "start_time": "2025-05-13T05:32:20.497123Z"
    }
   },
   "source": [
    "# 결과 저장: Excel 생성 및 차트 추가\n",
    "output_path = \"krx_weinstein_scan_updated.xlsx\"\n",
    "with pd.ExcelWriter(output_path, engine=\"xlsxwriter\") as writer:\n",
    "    df.to_excel(writer, index=False, sheet_name=\"Scan\")\n",
    "    scan_ws = writer.sheets[\"Scan\"]\n",
    "    for idx, col in enumerate(df.columns):\n",
    "        length = df[col].astype(str).map(len).max()\n",
    "        scan_ws.set_column(idx, idx, max(length, len(col)) + 2)\n",
    "    detail_ws = writer.book.add_worksheet(\"Detail\")\n",
    "    start_3m = (today - timedelta(days=90)).strftime(\"%Y%m%d\")\n",
    "    for i, ticker in enumerate(df['Ticker']):\n",
    "        hist = stock.get_market_ohlcv_by_date(start_3m, end, ticker, freq='d')\n",
    "        if hist.empty:\n",
    "            continue\n",
    "        fig, ax = plt.subplots()\n",
    "        ax.plot(pd.to_datetime(hist.index), hist['종가'], label='Close')\n",
    "        entry = df.loc[df['Ticker'] == ticker, 'Entry_Price'].values[0]\n",
    "        ax.axhline(entry, linestyle='--', label='Entry Price')\n",
    "        name = df.loc[df['Ticker'] == ticker, 'Name'].values[0]\n",
    "        ax.set_title(f\"{name} 3개월 일봉 차트\")\n",
    "        ax.legend()\n",
    "        fig.tight_layout()\n",
    "        buf = io.BytesIO()\n",
    "        fig.savefig(buf, format='png')\n",
    "        plt.close(fig)\n",
    "        buf.seek(0)\n",
    "        detail_ws.insert_image(i * 20, 0, f\"{ticker}.png\", {'image_data': buf, 'x_scale': 0.5, 'y_scale': 0.5})\n",
    "print(f\"Scan complete: {df.shape[0]} candidates found. Results saved to {output_path}\")"
   ],
   "outputs": [
    {
     "ename": "NameError",
     "evalue": "name 'df' is not defined",
     "output_type": "error",
     "traceback": [
      "\u001B[1;31m---------------------------------------------------------------------------\u001B[0m",
      "\u001B[1;31mNameError\u001B[0m                                 Traceback (most recent call last)",
      "Cell \u001B[1;32mIn[7], line 4\u001B[0m\n\u001B[0;32m      2\u001B[0m output_path \u001B[38;5;241m=\u001B[39m \u001B[38;5;124m\"\u001B[39m\u001B[38;5;124mkrx_weinstein_scan_updated.xlsx\u001B[39m\u001B[38;5;124m\"\u001B[39m\n\u001B[0;32m      3\u001B[0m \u001B[38;5;28;01mwith\u001B[39;00m pd\u001B[38;5;241m.\u001B[39mExcelWriter(output_path, engine\u001B[38;5;241m=\u001B[39m\u001B[38;5;124m\"\u001B[39m\u001B[38;5;124mxlsxwriter\u001B[39m\u001B[38;5;124m\"\u001B[39m) \u001B[38;5;28;01mas\u001B[39;00m writer:\n\u001B[1;32m----> 4\u001B[0m     \u001B[43mdf\u001B[49m\u001B[38;5;241m.\u001B[39mto_excel(writer, index\u001B[38;5;241m=\u001B[39m\u001B[38;5;28;01mFalse\u001B[39;00m, sheet_name\u001B[38;5;241m=\u001B[39m\u001B[38;5;124m\"\u001B[39m\u001B[38;5;124mScan\u001B[39m\u001B[38;5;124m\"\u001B[39m)\n\u001B[0;32m      5\u001B[0m     scan_ws \u001B[38;5;241m=\u001B[39m writer\u001B[38;5;241m.\u001B[39msheets[\u001B[38;5;124m\"\u001B[39m\u001B[38;5;124mScan\u001B[39m\u001B[38;5;124m\"\u001B[39m]\n\u001B[0;32m      6\u001B[0m     \u001B[38;5;28;01mfor\u001B[39;00m idx, col \u001B[38;5;129;01min\u001B[39;00m \u001B[38;5;28menumerate\u001B[39m(df\u001B[38;5;241m.\u001B[39mcolumns):\n",
      "\u001B[1;31mNameError\u001B[0m: name 'df' is not defined"
     ]
    }
   ],
   "execution_count": 7
  },
  {
   "metadata": {},
   "cell_type": "code",
   "outputs": [],
   "execution_count": null,
   "source": "",
   "id": "fcab19cecdbfc568"
  }
 ],
 "metadata": {
  "kernelspec": {
   "name": "python3",
   "language": "python",
   "display_name": "Python 3 (ipykernel)"
  }
 },
 "nbformat": 4,
 "nbformat_minor": 5
}
